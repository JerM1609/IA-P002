{
 "cells": [
  {
   "cell_type": "code",
   "execution_count": 54,
   "metadata": {},
   "outputs": [
    {
     "name": "stdout",
     "output_type": "stream",
     "text": [
      "[5.1 3.5 1.4 0.2 4.9 3.  1.4 0.2 4.7 3.2 1.3 0.2 4.6 3.1 1.5 0.2 5.  3.6\n",
      " 1.4 0.2 5.4 3.9 1.7 0.4 4.6 3.4 1.4 0.3 5.  3.4 1.5 0.2 4.4 2.9 1.4 0.2\n",
      " 4.9 3.1 1.5 0.1 5.4 3.7 1.5 0.2 4.8 3.4 1.6 0.2 4.8 3.  1.4 0.1 4.3 3.\n",
      " 1.1 0.1 5.8 4.  1.2 0.2 5.7 4.4 1.5 0.4 5.4 3.9 1.3 0.4 5.1 3.5 1.4 0.3\n",
      " 5.7 3.8 1.7 0.3 5.1 3.8 1.5 0.3 5.4 3.4 1.7 0.2 5.1 3.7 1.5 0.4 4.6 3.6\n",
      " 1.  0.2 5.1 3.3 1.7 0.5 4.8 3.4 1.9 0.2 5.  3.  1.6 0.2 5.  3.4 1.6 0.4\n",
      " 5.2 3.5 1.5 0.2 5.2 3.4 1.4 0.2 4.7 3.2 1.6 0.2 4.8 3.1 1.6 0.2 5.4 3.4\n",
      " 1.5 0.4 5.2 4.1 1.5 0.1 5.5 4.2 1.4 0.2 4.9 3.1 1.5 0.2 5.  3.2 1.2 0.2\n",
      " 5.5 3.5 1.3 0.2 4.9 3.6 1.4 0.1 4.4 3.  1.3 0.2 5.1 3.4 1.5 0.2 5.  3.5\n",
      " 1.3 0.3 4.5 2.3 1.3 0.3 4.4 3.2 1.3 0.2 5.  3.5 1.6 0.6 5.1 3.8 1.9 0.4\n",
      " 4.8 3.  1.4 0.3 5.1 3.8 1.6 0.2 4.6 3.2 1.4 0.2 5.3 3.7 1.5 0.2 5.  3.3\n",
      " 1.4 0.2 7.  3.2 4.7 1.4 6.4 3.2 4.5 1.5 6.9 3.1 4.9 1.5 5.5 2.3 4.  1.3\n",
      " 6.5 2.8 4.6 1.5 5.7 2.8 4.5 1.3 6.3 3.3 4.7 1.6 4.9 2.4 3.3 1.  6.6 2.9\n",
      " 4.6 1.3 5.2 2.7 3.9 1.4 5.  2.  3.5 1.  5.9 3.  4.2 1.5 6.  2.2 4.  1.\n",
      " 6.1 2.9 4.7 1.4 5.6 2.9 3.6 1.3 6.7 3.1 4.4 1.4 5.6 3.  4.5 1.5 5.8 2.7\n",
      " 4.1 1.  6.2 2.2 4.5 1.5 5.6 2.5 3.9 1.1 5.9 3.2 4.8 1.8 6.1 2.8 4.  1.3\n",
      " 6.3 2.5 4.9 1.5 6.1 2.8 4.7 1.2 6.4 2.9 4.3 1.3 6.6 3.  4.4 1.4 6.8 2.8\n",
      " 4.8 1.4 6.7 3.  5.  1.7 6.  2.9 4.5 1.5 5.7 2.6 3.5 1.  5.5 2.4 3.8 1.1\n",
      " 5.5 2.4 3.7 1.  5.8 2.7 3.9 1.2 6.  2.7 5.1 1.6 5.4 3.  4.5 1.5 6.  3.4\n",
      " 4.5 1.6 6.7 3.1 4.7 1.5 6.3 2.3 4.4 1.3 5.6 3.  4.1 1.3 5.5 2.5 4.  1.3\n",
      " 5.5 2.6 4.4 1.2 6.1 3.  4.6 1.4 5.8 2.6 4.  1.2 5.  2.3 3.3 1.  5.6 2.7\n",
      " 4.2 1.3 5.7 3.  4.2 1.2 5.7 2.9 4.2 1.3 6.2 2.9 4.3 1.3 5.1 2.5 3.  1.1\n",
      " 5.7 2.8 4.1 1.3 6.3 3.3 6.  2.5 5.8 2.7 5.1 1.9 7.1 3.  5.9 2.1 6.3 2.9\n",
      " 5.6 1.8 6.5 3.  5.8 2.2 7.6 3.  6.6 2.1 4.9 2.5 4.5 1.7 7.3 2.9 6.3 1.8\n",
      " 6.7 2.5 5.8 1.8 7.2 3.6 6.1 2.5 6.5 3.2 5.1 2.  6.4 2.7 5.3 1.9 6.8 3.\n",
      " 5.5 2.1 5.7 2.5 5.  2.  5.8 2.8 5.1 2.4 6.4 3.2 5.3 2.3 6.5 3.  5.5 1.8\n",
      " 7.7 3.8 6.7 2.2 7.7 2.6 6.9 2.3 6.  2.2 5.  1.5 6.9 3.2 5.7 2.3 5.6 2.8\n",
      " 4.9 2.  7.7 2.8 6.7 2.  6.3 2.7 4.9 1.8 6.7 3.3 5.7 2.1 7.2 3.2 6.  1.8\n",
      " 6.2 2.8 4.8 1.8 6.1 3.  4.9 1.8 6.4 2.8 5.6 2.1 7.2 3.  5.8 1.6 7.4 2.8\n",
      " 6.1 1.9 7.9 3.8 6.4 2.  6.4 2.8 5.6 2.2 6.3 2.8 5.1 1.5 6.1 2.6 5.6 1.4\n",
      " 7.7 3.  6.1 2.3 6.3 3.4 5.6 2.4 6.4 3.1 5.5 1.8 6.  3.  4.8 1.8 6.9 3.1\n",
      " 5.4 2.1 6.7 3.1 5.6 2.4 6.9 3.1 5.1 2.3 5.8 2.7 5.1 1.9 6.8 3.2 5.9 2.3\n",
      " 6.7 3.3 5.7 2.5 6.7 3.  5.2 2.3 6.3 2.5 5.  1.9 6.5 3.  5.2 2.  6.2 3.4\n",
      " 5.4 2.3 5.9 3.  5.1 1.8]\n"
     ]
    }
   ],
   "source": [
    "import numpy as np\n",
    "import seaborn as sns\n",
    "import matplotlib.pyplot as plt\n",
    "plt.style.use('seaborn')\n",
    "\n",
    "\n",
    "\n",
    "eps=1e-8 \n",
    "from sklearn import datasets\n",
    "from sklearn.decomposition import PCA\n",
    "\n",
    "# import some data to play with\n",
    "iris = datasets.load_iris()\n",
    "X = (iris.data).flatten()  # we only take the first two features.\n",
    "y = iris.target\n",
    "\n",
    "print(X)\n"
   ]
  },
  {
   "cell_type": "code",
   "execution_count": 55,
   "metadata": {},
   "outputs": [],
   "source": [
    "\n",
    "\n",
    "def PDF(data, means, variances):\n",
    "    return 1/(np.sqrt(2 * np.pi * variances) + eps) * np.exp(-1/2 * (np.square(data - means) / (variances + eps)))\n",
    "\n",
    "def EM_GMM(data, k=3, iterations=100, init_strategy='kmeans'):\n",
    "    weights = np.ones((k, 1)) / k # shape=(k, 1)\n",
    "    \n",
    "    if init_strategy=='kmeans':\n",
    "        from sklearn.cluster import KMeans\n",
    "        \n",
    "        km = KMeans(k).fit(data[:, None])\n",
    "        means = km.cluster_centers_ # shape=(k, 1)\n",
    "        \n",
    "    else: # init_strategy=='random'\n",
    "        means = np.random.choice(data, k)[:, np.newaxis] # shape=(k, 1)\n",
    "    \n",
    "    variances = np.random.random_sample(size=k)[:, np.newaxis] # shape=(k, 1)\n",
    "\n",
    "    data = np.repeat(data[np.newaxis, :], k, 0) # shape=(k, n)\n",
    "\n",
    "    for step in range(iterations):\n",
    "        # Expectation step\n",
    "        likelihood = PDF(data, means, np.sqrt(variances)) # shape=(k, n)\n",
    "\n",
    "        # Maximization step\n",
    "        b = likelihood * weights # shape=(k, n)\n",
    "        b /= np.sum(b, axis=1)[:, np.newaxis] + eps\n",
    "\n",
    "        # updage means, variances, and weights\n",
    "        means = np.sum(b * data, axis=1)[:, np.newaxis] / (np.sum(b, axis=1)[:, np.newaxis] + eps)\n",
    "        variances = np.sum(b * np.square(data - means), axis=1)[:, np.newaxis] / (np.sum(b, axis=1)[:, np.newaxis] + eps)\n",
    "        weights = np.mean(b, axis=1)[:, np.newaxis]\n",
    "        \n",
    "    return means, variances"
   ]
  },
  {
   "cell_type": "code",
   "execution_count": 61,
   "metadata": {},
   "outputs": [
    {
     "name": "stdout",
     "output_type": "stream",
     "text": [
      "463833\n",
      "[[  4.9513814 ]\n",
      " [ 70.93893118]\n",
      " [152.06976422]\n",
      " [ 37.12369774]] [[0.65791449]\n",
      " [0.96496081]\n",
      " [0.97651027]\n",
      " [0.96763957]]\n"
     ]
    },
    {
     "name": "stderr",
     "output_type": "stream",
     "text": [
      "c:\\Users\\USER\\AppData\\Local\\Programs\\Python\\Python39\\lib\\site-packages\\seaborn\\_decorators.py:36: FutureWarning: Pass the following variables as keyword args: x, y. From version 0.12, the only valid positional argument will be `data`, and passing other arguments without an explicit keyword will result in an error or misinterpretation.\n",
      "  warnings.warn(\n",
      "c:\\Users\\USER\\AppData\\Local\\Programs\\Python\\Python39\\lib\\site-packages\\seaborn\\_decorators.py:36: FutureWarning: Pass the following variables as keyword args: x, y. From version 0.12, the only valid positional argument will be `data`, and passing other arguments without an explicit keyword will result in an error or misinterpretation.\n",
      "  warnings.warn(\n",
      "c:\\Users\\USER\\AppData\\Local\\Programs\\Python\\Python39\\lib\\site-packages\\seaborn\\_decorators.py:36: FutureWarning: Pass the following variables as keyword args: x, y. From version 0.12, the only valid positional argument will be `data`, and passing other arguments without an explicit keyword will result in an error or misinterpretation.\n",
      "  warnings.warn(\n",
      "c:\\Users\\USER\\AppData\\Local\\Programs\\Python\\Python39\\lib\\site-packages\\seaborn\\_decorators.py:36: FutureWarning: Pass the following variables as keyword args: x, y. From version 0.12, the only valid positional argument will be `data`, and passing other arguments without an explicit keyword will result in an error or misinterpretation.\n",
      "  warnings.warn(\n"
     ]
    },
    {
     "data": {
      "text/plain": [
       "[]"
      ]
     },
     "execution_count": 61,
     "metadata": {},
     "output_type": "execute_result"
    },
    {
     "data": {
      "image/png": "[encoded data removed]",
      "text/plain": [
       "<Figure size 720x504 with 1 Axes>"
      ]
     },
     "metadata": {},
     "output_type": "display_data"
    }
   ],
   "source": [
    "s = np.array([25.31      , 24.31      , 24.12      , 43.46      , 41.48666667,\n",
    "              41.48666667, 37.54      , 41.175     , 44.81      , 44.44571429,\n",
    "              44.44571429, 44.44571429, 44.44571429, 44.44571429, 44.44571429,\n",
    "              44.44571429, 44.44571429, 44.44571429, 44.44571429, 44.44571429,\n",
    "              44.44571429, 44.44571429, 39.71      , 26.69      , 34.15      ,\n",
    "              24.94      , 24.75      , 24.56      , 24.38      , 35.25      ,\n",
    "              44.62      , 44.94      , 44.815     , 44.69      , 42.31      ,\n",
    "              40.81      , 44.38      , 44.56      , 44.44      , 44.25      ,\n",
    "              43.66666667, 43.66666667, 43.66666667, 43.66666667, 43.66666667,\n",
    "              40.75      , 32.31      , 36.08      , 30.135     , 24.19      ])\n",
    "\n",
    "#s = X\n",
    "\n",
    "import cv2\n",
    "\n",
    "\n",
    "img = cv2.imread(\"mini_data/0.jpg\")\n",
    "\n",
    "asss = (np.array(img)).flatten()\n",
    "\n",
    "print(len(asss))\n",
    "\n",
    "s = asss\n",
    "k=4\n",
    "n_iter=100\n",
    "\n",
    "means, variances = EM_GMM(s, k, n_iter)\n",
    "print(means,variances)\n",
    "\n",
    "\n",
    "# Plotting the results\n",
    "colors = ['green', 'red', 'blue', 'yellow']\n",
    "bins = np.linspace(np.min(s)-2, np.max(s)+2, 100)\n",
    "\n",
    "plt.figure(figsize=(10,7))\n",
    "plt.xlabel('$x$')\n",
    "plt.ylabel('pdf')\n",
    "\n",
    "#sns.scatterplot(s, [0.05] * len(s), color='navy', s=40, marker=2, label='Series data')\n",
    "\n",
    "for i, (m, v) in enumerate(zip(means, variances)):\n",
    "    sns.lineplot(bins, PDF(bins, m, v), color=colors[i], label=f'Cluster {i+1}')\n",
    "\n",
    "plt.legend()\n",
    "plt.plot()"
   ]
  }
 ],
 "metadata": {
  "interpreter": {
   "hash": "1d5c1156327dacead463cc502c55ebae8ce9c8c01979cf154173ff808e75bf55"
  },
  "kernelspec": {
   "display_name": "Python 3.9.7 64-bit",
   "language": "python",
   "name": "python3"
  },
  "language_info": {
   "codemirror_mode": {
    "name": "ipython",
    "version": 3
   },
   "file_extension": ".py",
   "mimetype": "text/x-python",
   "name": "python",
   "nbconvert_exporter": "python",
   "pygments_lexer": "ipython3",
   "version": "3.9.7"
  },
  "orig_nbformat": 4
 },
 "nbformat": 4,
 "nbformat_minor": 2
}
