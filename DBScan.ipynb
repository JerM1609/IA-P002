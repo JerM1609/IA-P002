{
 "cells": [
  {
   "cell_type": "code",
   "execution_count": null,
   "metadata": {},
   "outputs": [],
   "source": [
    "%matplotlib inline\n",
    "# https://scipy.github.io/devdocs/reference/spatial.html\n",
    "# https://scikit-learn.org/stable/modules/generated/sklearn.neighbors.KDTree.html#sklearn.neighbors.KDTree.query_radius\n",
    "\n",
    "import pandas as pd\n",
    "import numpy as np\n",
    "import matplotlib.pyplot as plt\n",
    "import matplotlib.colors\n",
    "import seaborn as sns\n",
    "from PIL import Image\n",
    "from scipy.spatial import distance\n",
    "from operator import itemgetter\n",
    "from sklearn.neighbors import KDTree\n",
    "import time\n",
    "import imageio\n",
    "import os\n",
    "import glob"
   ]
  },
  {
   "cell_type": "code",
   "execution_count": null,
   "metadata": {},
   "outputs": [],
   "source": [
    "\"\"\"\n",
    "\n",
    "p_00 = {R, G, B} = N\n",
    "...\n",
    "p_nm = {R, G, B} =\n",
    "\n",
    "hacia que lados del circulo buscar\n",
    "\n",
    "usar un regularizador para optimizar el DBSCAN\n",
    "\n",
    "p00 = {R, G, B, i, j}\n",
    "\n",
    "\n",
    "revisar localidad (flood fill algorithm)\n",
    "\n",
    "pasarlo a blanco y negro y luego probar el algoritmo con escala de grises\n",
    "\"\"\""
   ]
  },
  {
   "cell_type": "code",
   "execution_count": null,
   "metadata": {},
   "outputs": [],
   "source": [
    "UNDEFINED = 0\n",
    "NOISE = 1\n",
    "EPS = 0.9\n",
    "TRESHOLD = 75"
   ]
  },
  {
   "cell_type": "code",
   "execution_count": null,
   "metadata": {},
   "outputs": [],
   "source": [
    "class DBScan():\n",
    "    def __init__(self, data, eps, treshold, m='euclidean'):\n",
    "        self.data = data        # database\n",
    "        self.KDT = KDTree(data) \n",
    "        self.e = eps            # radius\n",
    "        self.t = treshold       # minPoints: density treshold\n",
    "\n",
    "        # cluster of i-th training example\n",
    "        self.label = np.array([UNDEFINED for _ in range(len(data))])        \n",
    "    \n",
    "    def region_query(self, p):\n",
    "        N = self.KDT.query_radius([p], r=self.e)[0]  \n",
    "        N = [n for n in N if self.label[n] in [UNDEFINED, NOISE] ]\n",
    "        return np.array(N, dtype=object)\n",
    "\n",
    "    def dbs(self):\n",
    "        c = 1\n",
    "        for i in range(len(self.data)):\n",
    "            label_p = self.label[i]         # label of i-th training example\n",
    "            \n",
    "            if label_p != UNDEFINED:\n",
    "                continue\n",
    "            # get index of nearest neighbors of i-th trainig example\n",
    "            NN = self.region_query(self.data[i])\n",
    "            \n",
    "            if len(NN) < self.t:\n",
    "                self.label[i] = NOISE\n",
    "                continue\n",
    "            \n",
    "            c += 1\n",
    "            self.label[i] = c\n",
    "            \n",
    "            # S <- N \\ {p}\n",
    "            S = [NN[_] for _ in np.where(NN!=i)[0]]\n",
    "\n",
    "            for q in S:\n",
    "                label_curr = self.label[q]\n",
    "                if label_curr == NOISE:\n",
    "                    self.label[q] = c\n",
    "                if label_curr != UNDEFINED:\n",
    "                    continue\n",
    "                NE = self.region_query(self.data[q])\n",
    "                self.label[q] = c\n",
    "                if len(NE) < self.t:\n",
    "                    continue\n",
    "                S += [_ for _ in NE if _ not in S]\n",
    "        return self.label\n",
    "        \n",
    "    def execute(self):\n",
    "        self.dbs()"
   ]
  },
  {
   "cell_type": "code",
   "execution_count": null,
   "metadata": {},
   "outputs": [],
   "source": [
    "IMG_PATH = './mini_data/'"
   ]
  },
  {
   "cell_type": "markdown",
   "metadata": {},
   "source": [
    "# **SIMULACIÓN**"
   ]
  },
  {
   "cell_type": "code",
   "execution_count": null,
   "metadata": {},
   "outputs": [],
   "source": [
    "for name in os.listdir(IMG_PATH):\n",
    "    # read and resize image\n",
    "    print(name)\n",
    "    continue\n",
    "    img = Image.open(IMG_PATH + name)\n",
    "    w, h = img.__dict__['_size']\n",
    "    mat = np.asarray(img.resize((int(w/4), int(h/4))))\n",
    "    \n",
    "    M = []\n",
    "    for i in range(len(mat)):\n",
    "        for j in range(len(mat[i])):\n",
    "            pixel = mat[i, j]\n",
    "            M.append(np.array(list(pixel) + [i, j], dtype=object))\n",
    "    M = np.array(M)\n",
    "    pixels_db = M[: , 0:3]\n",
    "\n",
    "    dbscan = DBScan(pixels_db, EPS, TRESHOLD)\n",
    "    result = dbscan.dbs()\n",
    "\n",
    "    print(f'clusters {len(np.unique(result))}')\n",
    "\n",
    "    ij_cluster = pd.DataFrame()\n",
    "    ij_cluster['i'] = M[: , -2]\n",
    "    ij_cluster['j'] = M[: , -1]\n",
    "    ij_cluster['clusters'] = result\n",
    "    file_name = name.replace('.jpg', '')\n",
    "    ij_cluster.to_csv(f'./Resultados/DBScan/{file_name}.csv')\n",
    "\n",
    "    X = ij_cluster['j'].tolist()\n",
    "    Y = ij_cluster['i'].tolist()\n",
    "    plt.clf()\n",
    "    plt.scatter(X,Y,c=ij_cluster['clusters'].tolist(), cmap='cividis')\n",
    "    plt.axis('off')\n",
    "    plt.gca().invert_yaxis()\n",
    "    plt.savefig(f'./Resultados/DBScan/{file_name}.png', dpi=1200)"
   ]
  },
  {
   "cell_type": "markdown",
   "metadata": {},
   "source": [
    "# **Layer analysis**"
   ]
  },
  {
   "cell_type": "code",
   "execution_count": null,
   "metadata": {},
   "outputs": [],
   "source": [
    "df = pd.read_csv('./Resultados/DBScan/0.csv', index_col='Unnamed: 0')"
   ]
  },
  {
   "cell_type": "code",
   "execution_count": null,
   "metadata": {},
   "outputs": [],
   "source": [
    "X = df['j'].tolist()\n",
    "Y = df['i'].tolist()\n",
    "\n",
    "fig = plt.figure()\n",
    "plt.scatter(X, Y, c=df['clusters'].tolist(), cmap='cividis', s=1)\n",
    "plt.axis('off')\n",
    "plt.gca().invert_yaxis()"
   ]
  },
  {
   "cell_type": "code",
   "execution_count": null,
   "metadata": {},
   "outputs": [],
   "source": [
    "# freq = df['clusters'].value_counts()\n",
    "# # freq[freq > 100]\n",
    "# print(freq.to_dict())\n",
    "# # freq.index\n",
    "# # freq[freq > 100].index.to_list()\n",
    "# top = freq[freq > 1000].index.to_list()\n",
    "# print(top)\n",
    "# points = df[df['clusters'].isin(top)]"
   ]
  },
  {
   "cell_type": "code",
   "execution_count": null,
   "metadata": {},
   "outputs": [],
   "source": [
    "for _ in list(df['clusters'].unique()):\n",
    "    current = df[df['clusters'] == _]\n",
    "    \n",
    "    X = current['j'].tolist()\n",
    "    Y = current['i'].tolist()\n",
    "\n",
    "    fig = plt.figure()\n",
    "    plt.scatter(X, Y, c=current['clusters'].tolist(), cmap='cividis', s=1)\n",
    "    plt.axis('off')\n",
    "    plt.gca().invert_yaxis()"
   ]
  }
 ],
 "metadata": {
  "interpreter": {
   "hash": "21a1819d88df0485e3b23f06780d6b8f1666fc431bd4b1ff742ad03a2caf8388"
  },
  "kernelspec": {
   "display_name": "Python 3.10.4 ('venv': venv)",
   "language": "python",
   "name": "python3"
  },
  "language_info": {
   "codemirror_mode": {
    "name": "ipython",
    "version": 3
   },
   "file_extension": ".py",
   "mimetype": "text/x-python",
   "name": "python",
   "nbconvert_exporter": "python",
   "pygments_lexer": "ipython3",
   "version": "3.10.4"
  },
  "orig_nbformat": 4
 },
 "nbformat": 4,
 "nbformat_minor": 2
}
