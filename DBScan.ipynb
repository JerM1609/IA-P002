{
 "cells": [
  {
   "cell_type": "code",
   "execution_count": 27,
   "metadata": {},
   "outputs": [],
   "source": [
    "%matplotlib inline\n",
    "# https://scipy.github.io/devdocs/reference/spatial.html\n",
    "# https://scikit-learn.org/stable/modules/generated/sklearn.neighbors.KDTree.html#sklearn.neighbors.KDTree.query_radius\n",
    "\n",
    "import pandas as pd\n",
    "import numpy as np\n",
    "import matplotlib.pyplot as plt\n",
    "import matplotlib.colors\n",
    "import seaborn as sns\n",
    "from PIL import Image\n",
    "from scipy.spatial import distance\n",
    "from operator import itemgetter\n",
    "from sklearn.neighbors import KDTree\n",
    "import time\n",
    "import imageio\n",
    "import os\n",
    "import glob"
   ]
  },
  {
   "cell_type": "code",
   "execution_count": 28,
   "metadata": {},
   "outputs": [],
   "source": [
    "UNDEFINED = 0\n",
    "NOISE = 1\n",
    "EPS = 0.9\n",
    "TRESHOLD = 75"
   ]
  },
  {
   "cell_type": "code",
   "execution_count": 29,
   "metadata": {},
   "outputs": [],
   "source": [
    "class DBScan():\n",
    "    def __init__(self, data, eps, treshold, m='euclidean'):\n",
    "        self.data = data        # database\n",
    "        self.KDT = KDTree(data) \n",
    "        self.e = eps            # radius\n",
    "        self.t = treshold       # minPoints: density treshold\n",
    "\n",
    "        # cluster of i-th training example\n",
    "        self.label = np.array([UNDEFINED for _ in range(len(data))])        \n",
    "    \n",
    "    def region_query(self, p):\n",
    "        N = self.KDT.query_radius([p], r=self.e)[0]  \n",
    "        N = [n for n in N if self.label[n] in [UNDEFINED, NOISE] ]\n",
    "        return np.array(N, dtype=object)\n",
    "\n",
    "    def dbs(self):\n",
    "        c = 1\n",
    "        for i in range(len(self.data)):\n",
    "            label_p = self.label[i]         # label of i-th training example\n",
    "            \n",
    "            if label_p != UNDEFINED:\n",
    "                continue\n",
    "            # get index of nearest neighbors of i-th trainig example\n",
    "            NN = self.region_query(self.data[i])\n",
    "            \n",
    "            if len(NN) < self.t:\n",
    "                self.label[i] = NOISE\n",
    "                continue\n",
    "            \n",
    "            c += 1\n",
    "            self.label[i] = c\n",
    "            \n",
    "            # S <- N \\ {p}\n",
    "            S = [NN[_] for _ in np.where(NN!=i)[0]]\n",
    "\n",
    "            for q in S:\n",
    "                label_curr = self.label[q]\n",
    "                if label_curr == NOISE:\n",
    "                    self.label[q] = c\n",
    "                if label_curr != UNDEFINED:\n",
    "                    continue\n",
    "                NE = self.region_query(self.data[q])\n",
    "                self.label[q] = c\n",
    "                if len(NE) < self.t:\n",
    "                    continue\n",
    "                S += [_ for _ in NE if _ not in S]\n",
    "        return self.label\n",
    "        \n",
    "    def execute(self):\n",
    "        self.dbs()"
   ]
  },
  {
   "cell_type": "code",
   "execution_count": 34,
   "metadata": {},
   "outputs": [],
   "source": [
    "IMG_PATH = './mini_data/'"
   ]
  },
  {
   "cell_type": "markdown",
   "metadata": {},
   "source": [
    "# **SIMULACIÓN**"
   ]
  },
  {
   "cell_type": "code",
   "execution_count": 52,
   "metadata": {},
   "outputs": [
    {
     "name": "stdout",
     "output_type": "stream",
     "text": [
      "0.jpg\n",
      "1.jpg\n",
      "10.jpg\n",
      "100.jpg\n",
      "101.jpg\n"
     ]
    }
   ],
   "source": [
    "for name in os.listdir(IMG_PATH):\n",
    "    # read and resize image\n",
    "    print(name)\n",
    "    continue\n",
    "    img = Image.open(IMG_PATH + name)\n",
    "    w, h = img.__dict__['_size']\n",
    "    mat = np.asarray(img.resize((int(w/4), int(h/4))))\n",
    "    \n",
    "    M = []\n",
    "    for i in range(len(mat)):\n",
    "        for j in range(len(mat[i])):\n",
    "            pixel = mat[i, j]\n",
    "            M.append(np.array(list(pixel) + [i, j], dtype=object))\n",
    "    M = np.array(M)\n",
    "    pixels_db = M[: , 0:3]\n",
    "\n",
    "    dbscan = DBScan(pixels_db, EPS, TRESHOLD)\n",
    "    result = dbscan.dbs()\n",
    "\n",
    "    print(f'clusters {len(np.unique(result))}')\n",
    "\n",
    "    ij_cluster = pd.DataFrame()\n",
    "    ij_cluster['i'] = M[: , -2]\n",
    "    ij_cluster['j'] = M[: , -1]\n",
    "    ij_cluster['clusters'] = result\n",
    "    file_name = name.replace('.jpg', '')\n",
    "    ij_cluster.to_csv(f'./Resultados/DBScan/{file_name}.csv')\n",
    "\n",
    "    X = ij_cluster['j'].tolist()\n",
    "    Y = ij_cluster['i'].tolist()\n",
    "    plt.clf()\n",
    "    plt.scatter(X,Y,c=ij_cluster['clusters'].tolist(), cmap='cividis')\n",
    "    plt.axis('off')\n",
    "    plt.gca().invert_yaxis()\n",
    "    plt.savefig(f'./Resultados/DBScan/{file_name}.png', dpi=1200)"
   ]
  }
 ],
 "metadata": {
  "language_info": {
   "name": "python"
  },
  "orig_nbformat": 4
 },
 "nbformat": 4,
 "nbformat_minor": 2
}
