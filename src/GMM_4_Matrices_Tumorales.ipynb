{
 "cells": [
  {
   "cell_type": "markdown",
   "metadata": {},
   "source": [
    "## IMPORTS"
   ]
  },
  {
   "cell_type": "code",
   "execution_count": 1,
   "metadata": {},
   "outputs": [],
   "source": [
    "import pandas as pd\n",
    "import numpy as np\n",
    "import matplotlib.image as mplib \n",
    "import matplotlib.pyplot as plt\n",
    "import os\n",
    "from PIL import Image\n",
    "import csv\n",
    "from natsort import natsorted\n",
    "import utils"
   ]
  },
  {
   "cell_type": "markdown",
   "metadata": {},
   "source": [
    "## GUARDAR TODOS LOS TUMORES EXTRAIDOS"
   ]
  },
  {
   "cell_type": "code",
   "execution_count": 4,
   "metadata": {},
   "outputs": [],
   "source": [
    "def save_tumor_matrixes():\n",
    "   \"\"\"\n",
    "   save_tumor_matrixes\n",
    "\n",
    "   :Recupera la etiqueta del tumor, y extrae la región tumoral para guardarla en la carpeta Matrices_Tumorales\n",
    "   \"\"\"\n",
    "   PATH = \"Resultados/GMM/Objetos_Clusterizados/\"\n",
    "\n",
    "   reader = csv.reader(open('Resultados/GMM/tumores.csv', 'r'))\n",
    "   header = next(reader)\n",
    "\n",
    "   cluster_tumores = {}\n",
    "   for row in reader:\n",
    "      nombre_archivo, cluster_tumor = row\n",
    "      cluster_tumores[nombre_archivo] = int(cluster_tumor)\n",
    "\n",
    "   lista_archivos = natsorted(os.listdir(PATH))\n",
    "\n",
    "   for archivo in lista_archivos:\n",
    "      if archivo in cluster_tumores:\n",
    "         df = pd.read_csv(PATH + archivo, index_col= 0)\n",
    "         data = utils.extract_tumor_to_image(df, cluster_tumores[archivo])\n",
    "         imagen = Image.fromarray(data, 'RGB')\n",
    "         imagen.save(\"Resultados/GMM/Matrices_Tumorales/\"+ archivo[:-4]+ '.png')"
   ]
  },
  {
   "cell_type": "markdown",
   "metadata": {},
   "source": [
    "## Llamado de la función"
   ]
  },
  {
   "cell_type": "code",
   "execution_count": 5,
   "metadata": {},
   "outputs": [],
   "source": [
    "save_tumor_matrixes()"
   ]
  }
 ],
 "metadata": {
  "interpreter": {
   "hash": "21a1819d88df0485e3b23f06780d6b8f1666fc431bd4b1ff742ad03a2caf8388"
  },
  "kernelspec": {
   "display_name": "Python 3.10.4 ('venv': venv)",
   "language": "python",
   "name": "python3"
  },
  "language_info": {
   "codemirror_mode": {
    "name": "ipython",
    "version": 3
   },
   "file_extension": ".py",
   "mimetype": "text/x-python",
   "name": "python",
   "nbconvert_exporter": "python",
   "pygments_lexer": "ipython3",
   "version": "3.10.4"
  },
  "orig_nbformat": 4
 },
 "nbformat": 4,
 "nbformat_minor": 2
}
