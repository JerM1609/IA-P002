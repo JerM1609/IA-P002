{
 "cells": [
  {
   "cell_type": "markdown",
   "metadata": {},
   "source": [
    "## IMPORTS"
   ]
  },
  {
   "cell_type": "code",
   "execution_count": 1,
   "metadata": {},
   "outputs": [],
   "source": [
    "import matplotlib.pyplot as plt\n",
    "import numpy as np\n",
    "import pandas as pd\n",
    "import utils\n",
    "import K_means as KM\n",
    "import multiprocessing as mp"
   ]
  },
  {
   "cell_type": "markdown",
   "metadata": {},
   "source": [
    "## DEFINIR PATH DE DATOS"
   ]
  },
  {
   "cell_type": "code",
   "execution_count": 2,
   "metadata": {},
   "outputs": [],
   "source": [
    "IMG_PATH ='data/'"
   ]
  },
  {
   "cell_type": "markdown",
   "metadata": {},
   "source": [
    "## CARGAR DATOS"
   ]
  },
  {
   "cell_type": "code",
   "execution_count": 3,
   "metadata": {},
   "outputs": [],
   "source": [
    "data = utils.get_data(IMG_PATH)"
   ]
  },
  {
   "cell_type": "markdown",
   "metadata": {},
   "source": [
    "## FUNCION DE EJECUCION PARALELA"
   ]
  },
  {
   "cell_type": "code",
   "execution_count": 4,
   "metadata": {},
   "outputs": [],
   "source": [
    "def thread_function(subset):\n",
    "    \"\"\"\n",
    "    thread_function\n",
    "\n",
    "    :param subset: subconjunto de datos\n",
    "    :Realiza K-MEANS sobre los elementos del subconjunto de datos\n",
    "    \"\"\"    \n",
    "    for i in range(len(subset)):\n",
    "        K_means = KM.K_Means(n=4, cc=KM.plus_plus)\n",
    "        centroids, clusters = K_means.execute(subset[i][1][['R','G','B']])\n",
    "        iter_item = subset[i][1].copy()\n",
    "        iter_item['cluster'] = clusters['cluster']\n",
    "        iter_item.to_csv(f\"Resultados/K_Means/Objetos_Clusterizados/{subset[i][0]}.csv\")"
   ]
  },
  {
   "cell_type": "markdown",
   "metadata": {},
   "source": [
    "## EJECUCION DE N PROCESOS PARALELOS"
   ]
  },
  {
   "cell_type": "code",
   "execution_count": 5,
   "metadata": {},
   "outputs": [],
   "source": [
    "number_processes = mp.cpu_count()\n",
    "data_arr = np.asarray(data)\n",
    "subsets = np.array_split(data_arr, number_processes)\n",
    "procesos = []\n",
    "\n",
    "for index in range(number_processes):\n",
    "    procesos.append(mp.Process(target=thread_function,  args=(subsets[index],)))\n",
    "\n",
    "for process in procesos:\n",
    "    process.start()\n",
    "\n",
    "for process in procesos:\n",
    "    process.join()"
   ]
  }
 ],
 "metadata": {
  "interpreter": {
   "hash": "dbf49d922739c182e9249797c09f7577e09ae82cac1421a81157004c51874aa3"
  },
  "kernelspec": {
   "display_name": "Python 3",
   "language": "python",
   "name": "python3"
  },
  "language_info": {
   "codemirror_mode": {
    "name": "ipython",
    "version": 3
   },
   "file_extension": ".py",
   "mimetype": "text/x-python",
   "name": "python",
   "nbconvert_exporter": "python",
   "pygments_lexer": "ipython3",
   "version": "3.7.6"
  }
 },
 "nbformat": 4,
 "nbformat_minor": 2
}
