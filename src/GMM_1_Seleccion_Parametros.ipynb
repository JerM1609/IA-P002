{
 "cells": [
  {
   "cell_type": "markdown",
   "metadata": {},
   "source": [
    "## IMPORTS"
   ]
  },
  {
   "cell_type": "code",
   "execution_count": 7,
   "metadata": {},
   "outputs": [],
   "source": [
    "import matplotlib.pyplot as plt\n",
    "import numpy as np\n",
    "import pandas as pd\n",
    "import utils\n",
    "import multiprocessing as mp\n",
    "from sklearn.mixture import GaussianMixture\n",
    "import seaborn as sns\n",
    "from sklearn.metrics import silhouette_score"
   ]
  },
  {
   "cell_type": "markdown",
   "metadata": {},
   "source": [
    "## DEFINIR PATH DE DATOS"
   ]
  },
  {
   "cell_type": "code",
   "execution_count": 8,
   "metadata": {},
   "outputs": [],
   "source": [
    "IMG_PATH ='data/'"
   ]
  },
  {
   "cell_type": "markdown",
   "metadata": {},
   "source": [
    "## CARGAR DATOS"
   ]
  },
  {
   "cell_type": "code",
   "execution_count": 9,
   "metadata": {},
   "outputs": [],
   "source": [
    "data = utils.get_data(IMG_PATH)"
   ]
  },
  {
   "cell_type": "markdown",
   "metadata": {},
   "source": [
    "## SELECCION DEL MEJOR MODELO PARA LAS N ITERACIONES DEL SILHOUETTE SCORE"
   ]
  },
  {
   "cell_type": "code",
   "execution_count": 10,
   "metadata": {},
   "outputs": [],
   "source": [
    "def SelBest(arr:list, X:int)->list:\n",
    "    '''\n",
    "    returns the set of X configurations with shorter distance\n",
    "    '''\n",
    "    dx=np.argsort(arr)[:X]\n",
    "    return arr[dx]"
   ]
  },
  {
   "cell_type": "markdown",
   "metadata": {},
   "source": [
    "## CALCULO DE SILHOUETTE SCORE PARA RANDOM Y K MEANS"
   ]
  },
  {
   "cell_type": "code",
   "execution_count": 14,
   "metadata": {},
   "outputs": [
    {
     "data": {
      "image/png": "[encoded data removed]",
      "text/plain": [
       "<Figure size 432x288 with 1 Axes>"
      ]
     },
     "metadata": {
      "needs_background": "light"
     },
     "output_type": "display_data"
    }
   ],
   "source": [
    "data_prueba = data[0][1][['R','G','B']]\n",
    "\n",
    "cantidad_componentes=np.arange(3, 8)\n",
    "sils=[]\n",
    "errores=[]\n",
    "iterations=20\n",
    "for n in cantidad_componentes:\n",
    "    tmp_sil=[]\n",
    "    for _ in range(iterations):\n",
    "        gmm=GaussianMixture(n, init_params='random', n_init=2).fit(data_prueba) \n",
    "        labels=gmm.predict(data_prueba)\n",
    "        sil=silhouette_score(data_prueba, labels, metric='euclidean')\n",
    "        tmp_sil.append(sil)\n",
    "    val=np.mean(SelBest(np.array(tmp_sil), int(iterations/5)))\n",
    "    err=np.std(tmp_sil)\n",
    "    sils.append(val)\n",
    "    errores.append(err)\n",
    "\n",
    "plt.errorbar(cantidad_componentes, sils, yerr=errores, capsize=7)\n",
    "\n",
    "\n",
    "cantidad_componentes=np.arange(3, 8)\n",
    "sils=[]\n",
    "errores=[]\n",
    "iterations=20\n",
    "for n in cantidad_componentes:\n",
    "    tmp_sil=[]\n",
    "    for _ in range(iterations):\n",
    "        gmm=GaussianMixture(n, init_params='kmeans',  n_init=2).fit(data_prueba) \n",
    "        labels=gmm.predict(data_prueba)\n",
    "        sil=silhouette_score(data_prueba, labels, metric='euclidean')\n",
    "        tmp_sil.append(sil)\n",
    "    val=np.mean(SelBest(np.array(tmp_sil), int(iterations/5)))\n",
    "    err=np.std(tmp_sil)\n",
    "    sils.append(val)\n",
    "    errores.append(err)\n",
    "\n",
    "plt.errorbar(cantidad_componentes, sils, yerr=errores,capsize=7)\n",
    "plt.scatter(cantidad_componentes[2],sils[2],s=100,c='r')\n",
    "\n",
    "\n",
    "plt.title(\"Silhouette Scores\", fontsize=20)\n",
    "plt.xticks(cantidad_componentes)\n",
    "plt.xlabel(\"Cantidad de Componentes\",fontsize=12)\n",
    "plt.ylabel(\"Score\",fontsize=12)\n",
    "plt.legend(['Best score','Random','K-means'], loc='center left', bbox_to_anchor=(1, 0.5))\n",
    "plt.savefig('Resultados/GMM/Silhouette_scores.png', bbox_inches='tight')"
   ]
  }
 ],
 "metadata": {
  "interpreter": {
   "hash": "60ba1e9c20a97bab95adc8fa7cd7536eabf7ae0f08621d987aa706dba1e5c7d3"
  },
  "kernelspec": {
   "display_name": "Python 3.7.6 ('base')",
   "language": "python",
   "name": "python3"
  },
  "language_info": {
   "codemirror_mode": {
    "name": "ipython",
    "version": 3
   },
   "file_extension": ".py",
   "mimetype": "text/x-python",
   "name": "python",
   "nbconvert_exporter": "python",
   "pygments_lexer": "ipython3",
   "version": "3.7.6"
  },
  "orig_nbformat": 4
 },
 "nbformat": 4,
 "nbformat_minor": 2
}
