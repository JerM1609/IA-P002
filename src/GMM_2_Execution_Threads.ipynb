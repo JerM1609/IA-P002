{
 "cells": [
  {
   "cell_type": "markdown",
   "metadata": {},
   "source": [
    "## IMPORTS"
   ]
  },
  {
   "cell_type": "code",
   "execution_count": 1,
   "metadata": {},
   "outputs": [],
   "source": [
    "import matplotlib.pyplot as plt\n",
    "import numpy as np\n",
    "import pandas as pd\n",
    "import utils\n",
    "import multiprocessing as mp\n",
    "from sklearn.mixture import GaussianMixture\n",
    "import seaborn as sns"
   ]
  },
  {
   "cell_type": "markdown",
   "metadata": {},
   "source": [
    "## DEFINIR PATH DE DATOS"
   ]
  },
  {
   "cell_type": "code",
   "execution_count": 2,
   "metadata": {},
   "outputs": [],
   "source": [
    "IMG_PATH ='data/'"
   ]
  },
  {
   "cell_type": "markdown",
   "metadata": {},
   "source": [
    "## CARGAR DATOS"
   ]
  },
  {
   "cell_type": "code",
   "execution_count": 3,
   "metadata": {},
   "outputs": [],
   "source": [
    "data = utils.get_data(IMG_PATH)"
   ]
  },
  {
   "cell_type": "markdown",
   "metadata": {},
   "source": [
    "## FUNCION DE EJECUCION PARALELA"
   ]
  },
  {
   "cell_type": "code",
   "execution_count": 6,
   "metadata": {},
   "outputs": [],
   "source": [
    "def thread_function(subset):\n",
    "    \"\"\"\n",
    "    thread_function\n",
    "\n",
    "    :param subset: subconjunto de datos\n",
    "    :Realiza GMM sobre los elementos del subconjunto de datos\n",
    "    \"\"\"\n",
    "    for i in range(len(subset)):\n",
    "        gmm = GaussianMixture(n_components=5, init_params='kmeans',  n_init=2)\n",
    "        gmm.fit(subset[i][1][['R','G','B']])\n",
    "        clusters = gmm.predict(subset[i][1][['R','G','B']])\n",
    "\n",
    "        iter_item = subset[i][1].copy()\n",
    "        iter_item['cluster'] = clusters\n",
    "        iter_item.to_csv(f\"Resultados/GMM/Objetos_Clusterizados/{subset[i][0]}.csv\")"
   ]
  },
  {
   "cell_type": "markdown",
   "metadata": {},
   "source": [
    "## EJECUCION DE N PROCESOS PARALELOS"
   ]
  },
  {
   "cell_type": "code",
   "execution_count": 7,
   "metadata": {},
   "outputs": [],
   "source": [
    "number_processes = mp.cpu_count()\n",
    "data_arr = np.asarray(data)\n",
    "subsets = np.array_split(data_arr, number_processes)\n",
    "procesos = []\n",
    "\n",
    "for index in range(number_processes):\n",
    "    procesos.append(mp.Process(target=thread_function,  args=(subsets[index],)))\n",
    "\n",
    "for process in procesos:\n",
    "    process.start()\n",
    "\n",
    "for process in procesos:\n",
    "    process.join()"
   ]
  }
 ],
 "metadata": {
  "interpreter": {
   "hash": "60ba1e9c20a97bab95adc8fa7cd7536eabf7ae0f08621d987aa706dba1e5c7d3"
  },
  "kernelspec": {
   "display_name": "Python 3.7.6 ('base')",
   "language": "python",
   "name": "python3"
  },
  "language_info": {
   "codemirror_mode": {
    "name": "ipython",
    "version": 3
   },
   "file_extension": ".py",
   "mimetype": "text/x-python",
   "name": "python",
   "nbconvert_exporter": "python",
   "pygments_lexer": "ipython3",
   "version": "3.7.6"
  },
  "orig_nbformat": 4
 },
 "nbformat": 4,
 "nbformat_minor": 2
}
