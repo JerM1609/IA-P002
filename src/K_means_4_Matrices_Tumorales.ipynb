{
 "cells": [
  {
   "cell_type": "code",
   "execution_count": 5,
   "metadata": {},
   "outputs": [],
   "source": [
    "import pandas as pd\n",
    "import numpy as np\n",
    "from sklearn.decomposition import PCA\n",
    "import matplotlib.image as mplib \n",
    "import matplotlib.pyplot as plt\n",
    "import os\n",
    "from PIL import Image\n",
    "import pywt\n",
    "import seaborn as sns\n",
    "import csv\n",
    "from natsort import natsorted"
   ]
  },
  {
   "cell_type": "code",
   "execution_count": 6,
   "metadata": {},
   "outputs": [],
   "source": [
    "def get_matrix_of_tumor(dataframe, cluster_tumor):\n",
    "    i_max = dataframe['i'].max()+1\n",
    "    j_max = dataframe['j'].max()+1\n",
    "    array = np.zeros((i_max,j_max,3), dtype=np.uint8)\n",
    "    for index in range(len(dataframe)):\n",
    "        i = dataframe.iloc[index]['i']\n",
    "        j = dataframe.iloc[index]['j']\n",
    "        cluster = dataframe.iloc[index]['cluster']\n",
    "        color = dataframe.iloc[index]['R']\n",
    "        if cluster != cluster_tumor:\n",
    "            array[i,j] = [0, 0, 0]\n",
    "        else:\n",
    "            array[i,j] = [color, color, color]\n",
    "    \n",
    "    return array"
   ]
  },
  {
   "cell_type": "code",
   "execution_count": 7,
   "metadata": {},
   "outputs": [],
   "source": [
    "\n",
    "def save_tumor_matrixes():\n",
    "   PATH = \"Resultados/K_Means/Objetos_Clusterizados/\"\n",
    "\n",
    "   reader = csv.reader(open('Resultados/K_Means/tumores.csv', 'r'))\n",
    "   header = next(reader)\n",
    "\n",
    "   cluster_tumores = {}\n",
    "   for row in reader:\n",
    "      nombre_archivo, cluster_tumor = row\n",
    "      cluster_tumores[nombre_archivo] = int(cluster_tumor)\n",
    "\n",
    "   lista_archivos = natsorted(os.listdir(PATH))\n",
    "\n",
    "   for archivo in lista_archivos:\n",
    "      if archivo in cluster_tumores:\n",
    "         df = pd.read_csv(PATH + archivo, index_col= 0)\n",
    "         data = get_matrix_of_tumor(df, cluster_tumores[archivo])\n",
    "\n",
    "         imagen = Image.fromarray(data, 'RGB')\n",
    "         imagen.save(\"Resultados/K_Means/Matrices_Tumorales/\"+ archivo[:-4]+ '.png')"
   ]
  },
  {
   "cell_type": "code",
   "execution_count": 8,
   "metadata": {},
   "outputs": [],
   "source": [
    "save_tumor_matrixes()"
   ]
  }
 ],
 "metadata": {
  "interpreter": {
   "hash": "60ba1e9c20a97bab95adc8fa7cd7536eabf7ae0f08621d987aa706dba1e5c7d3"
  },
  "kernelspec": {
   "display_name": "Python 3.7.6 ('base')",
   "language": "python",
   "name": "python3"
  },
  "language_info": {
   "codemirror_mode": {
    "name": "ipython",
    "version": 3
   },
   "file_extension": ".py",
   "mimetype": "text/x-python",
   "name": "python",
   "nbconvert_exporter": "python",
   "pygments_lexer": "ipython3",
   "version": "3.7.6"
  },
  "orig_nbformat": 4
 },
 "nbformat": 4,
 "nbformat_minor": 2
}
