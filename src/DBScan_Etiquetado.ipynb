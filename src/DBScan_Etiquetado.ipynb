{
 "cells": [
  {
   "cell_type": "code",
   "execution_count": null,
   "metadata": {},
   "outputs": [],
   "source": [
    "import pandas as pd\n",
    "import numpy as np\n",
    "import seaborn as sns\n",
    "from natsort import natsorted\n",
    "import matplotlib.pyplot as plt\n",
    "import os\n",
    "from PIL import Image"
   ]
  },
  {
   "cell_type": "code",
   "execution_count": null,
   "metadata": {},
   "outputs": [],
   "source": [
    "PATH = \"Resultados/DBScan/Objetos_Clusterizados/\""
   ]
  },
  {
   "cell_type": "code",
   "execution_count": null,
   "metadata": {},
   "outputs": [],
   "source": [
    "lista_archivos = natsorted(os.listdir(PATH))"
   ]
  },
  {
   "cell_type": "code",
   "execution_count": null,
   "metadata": {},
   "outputs": [],
   "source": [
    "indice = 301\n",
    "df = pd.read_csv(PATH + lista_archivos[indice], index_col= 0)\n",
    "plt.clf()\n",
    "for _ in df['cluster'].unique():\n",
    "    plt.figure(figsize = (7, 7))\n",
    "    plt.title(lista_archivos[indice])\n",
    "    sns.scatterplot(data = df[df['cluster']==_], x='i', y='j',hue='cluster', palette='deep')"
   ]
  },
  {
   "cell_type": "code",
   "execution_count": null,
   "metadata": {},
   "outputs": [],
   "source": [
    "cluster = 1\n",
    "plt.figure(figsize = (5, 5))\n",
    "plt.title(lista_archivos[indice])\n",
    "sns.scatterplot(data = df[df['cluster']==cluster], x='i', y='j',hue='cluster', palette='deep')"
   ]
  },
  {
   "cell_type": "code",
   "execution_count": null,
   "metadata": {},
   "outputs": [],
   "source": [
    "# file_object = open('Resultados/DBScan/tumores.csv', 'a')\n",
    "# file_object.write(lista_archivos[indice] + ', ')\n",
    "# file_object.write(str(cluster))\n",
    "# file_object.write('\\n')\n",
    "# file_object.close()"
   ]
  },
  {
   "cell_type": "code",
   "execution_count": null,
   "metadata": {},
   "outputs": [],
   "source": [
    "# FALTAN \n",
    "# (6, 103.csv) (7, 105.csv) (12, 110.csv) (15, 113.csv) (28, 126.csv) \n",
    "# (33, 131.csv) (37, 135.csv) (82, 180.csv) (89, 187.csv) (92, 190.csv) \n",
    "# (93, 191.csv) (94, 192.csv) (96, 194.csv) (98, 196.csv) (106, 204.csv (1/7))\n",
    "# (109, 207.csv) (109, 208.csv) (128, 226.csv) (129, 227.csv) (136, 234.csv (1/10))\n",
    "# (150, 248.csv) (155, 253.csv) (215, 313.csv) (219, 317.csv) (220, 318.csv)\n",
    "# (221, 319.csv)  (279, 377.csv) (284, 383.csv) (290, 389.csv) (295, 394.csv)\n",
    "# [149, 247.csv, 1+11+14]"
   ]
  },
  {
   "cell_type": "code",
   "execution_count": null,
   "metadata": {},
   "outputs": [],
   "source": [
    "df = pd.read_csv('Resultados/DBScan/tumores.csv')\n",
    "faltantes = len(lista_archivos) - len(df['nombre'].unique())\n",
    "print(f'Falta: {faltantes} selecciones')"
   ]
  }
 ],
 "metadata": {
  "interpreter": {
   "hash": "21a1819d88df0485e3b23f06780d6b8f1666fc431bd4b1ff742ad03a2caf8388"
  },
  "kernelspec": {
   "display_name": "Python 3.10.4 ('venv': venv)",
   "language": "python",
   "name": "python3"
  },
  "language_info": {
   "codemirror_mode": {
    "name": "ipython",
    "version": 3
   },
   "file_extension": ".py",
   "mimetype": "text/x-python",
   "name": "python",
   "nbconvert_exporter": "python",
   "pygments_lexer": "ipython3",
   "version": "3.10.4"
  },
  "orig_nbformat": 4
 },
 "nbformat": 4,
 "nbformat_minor": 2
}
