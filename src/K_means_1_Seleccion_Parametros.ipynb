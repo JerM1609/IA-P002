{
 "cells": [
  {
   "cell_type": "markdown",
   "metadata": {},
   "source": [
    "## IMPORTS"
   ]
  },
  {
   "cell_type": "code",
   "execution_count": 1,
   "metadata": {
    "id": "NbgeS2Hip2qs"
   },
   "outputs": [],
   "source": [
    "import matplotlib.pyplot as plt\n",
    "import utils\n",
    "import K_means as KM"
   ]
  },
  {
   "cell_type": "markdown",
   "metadata": {},
   "source": [
    "## DEFINIR PATH DE DATOS"
   ]
  },
  {
   "cell_type": "code",
   "execution_count": 2,
   "metadata": {
    "id": "arxWNVmdDLnf"
   },
   "outputs": [],
   "source": [
    "IMG_PATH ='data/'"
   ]
  },
  {
   "cell_type": "markdown",
   "metadata": {},
   "source": [
    "## CARGAR DATOS"
   ]
  },
  {
   "cell_type": "code",
   "execution_count": 3,
   "metadata": {},
   "outputs": [],
   "source": [
    "data = utils.get_data(IMG_PATH)"
   ]
  },
  {
   "cell_type": "markdown",
   "metadata": {},
   "source": [
    "## FUNCION DE ERROR"
   ]
  },
  {
   "cell_type": "code",
   "execution_count": 4,
   "metadata": {},
   "outputs": [],
   "source": [
    "def WSS(centroids , pixels, distance):\n",
    "    \"\"\"\n",
    "    WSS\n",
    "\n",
    "    :param centroids: Lista de centroides\n",
    "    :param pixels: Matriz de pixeles\n",
    "    :param distance: Funcion de distancia\n",
    "    :Return: Error total interno del cluster\n",
    "    \"\"\"\n",
    "    Error = 0\n",
    "    for i in range(len(pixels)):\n",
    "        centroid_id = pixels.iloc[i]['cluster']\n",
    "        Error += distance(pixels.iloc[i][['R','G','B']], centroids[centroid_id])\n",
    "    return round(Error,2)"
   ]
  },
  {
   "cell_type": "markdown",
   "metadata": {},
   "source": [
    "## GENERAR ELBOW METHOD"
   ]
  },
  {
   "cell_type": "code",
   "execution_count": 5,
   "metadata": {
    "id": "dfeAvICDp2qz"
   },
   "outputs": [],
   "source": [
    "def generate_elbow(K_max):\n",
    "    \"\"\"\n",
    "    generate_elbow\n",
    "\n",
    "    :param K_max: Maxima cantidad de centroides computados\n",
    "    :Return: Error total interno del modelo por cada cantidad de centroides\n",
    "    \"\"\"    \n",
    "    K_iter= 1\n",
    "    K_values = []\n",
    "    Error_values = []\n",
    "    while K_iter <= K_max:\n",
    "        K_means = KM.K_Means(n=K_iter, cc=KM.plus_plus)\n",
    "        centroids, clusters = K_means.execute(data[1][1][['R','G','B']])\n",
    "        iter_item = data[1][1].copy()\n",
    "        iter_item['cluster'] = clusters['cluster']\n",
    "        K_values.append(K_iter)\n",
    "        Error_values.append(WSS(centroids,iter_item,K_means.d))\n",
    "        K_iter += 1\n",
    "    return K_values, Error_values"
   ]
  },
  {
   "cell_type": "markdown",
   "metadata": {},
   "source": [
    "## Llamado de la función"
   ]
  },
  {
   "cell_type": "code",
   "execution_count": 6,
   "metadata": {
    "colab": {
     "referenced_widgets": [
      "830d04e994bc4fa59f0c3ea79b1c915a"
     ]
    },
    "id": "mQHrXNEGp2q1",
    "outputId": "facbcf42-3a9e-4040-9b1b-a931ec1d62ea"
   },
   "outputs": [],
   "source": [
    "K_values, Error_values = generate_elbow(7)"
   ]
  },
  {
   "cell_type": "markdown",
   "metadata": {},
   "source": [
    "## Plot de Elbow Method"
   ]
  },
  {
   "cell_type": "code",
   "execution_count": 7,
   "metadata": {},
   "outputs": [
    {
     "data": {
      "image/png": "[encoded data removed]",
      "text/plain": [
       "<Figure size 432x288 with 1 Axes>"
      ]
     },
     "metadata": {
      "needs_background": "light"
     },
     "output_type": "display_data"
    }
   ],
   "source": [
    "plt.plot(K_values,Error_values,marker='o')\n",
    "plt.scatter(K_values[3],Error_values[3],s=200,c='r')\n",
    "plt.title('Cantidad de centroides vs Error (WSS)',fontsize=14)\n",
    "plt.xlabel('Cantidad de centroides',fontsize=12)\n",
    "plt.ylabel('Error (WSS)',fontsize=12)\n",
    "plt.savefig('Elbow_K_means.png', bbox_inches='tight')"
   ]
  }
 ],
 "metadata": {
  "colab": {
   "name": "S10_Clustering_Lab_2.ipynb",
   "provenance": []
  },
  "interpreter": {
   "hash": "60ba1e9c20a97bab95adc8fa7cd7536eabf7ae0f08621d987aa706dba1e5c7d3"
  },
  "kernelspec": {
   "display_name": "Python 3",
   "language": "python",
   "name": "python3"
  },
  "language_info": {
   "codemirror_mode": {
    "name": "ipython",
    "version": 3
   },
   "file_extension": ".py",
   "mimetype": "text/x-python",
   "name": "python",
   "nbconvert_exporter": "python",
   "pygments_lexer": "ipython3",
   "version": "3.7.6"
  }
 },
 "nbformat": 4,
 "nbformat_minor": 1
}
