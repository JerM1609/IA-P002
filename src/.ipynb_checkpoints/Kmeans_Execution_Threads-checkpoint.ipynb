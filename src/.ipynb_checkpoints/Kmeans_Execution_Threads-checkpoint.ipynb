{
 "cells": [
  {
   "cell_type": "code",
   "execution_count": 1,
   "metadata": {},
   "outputs": [],
   "source": [
    "import matplotlib.pyplot as plt\n",
    "import numpy as np\n",
    "import utils\n",
    "import K_means as KM\n",
    "import threading"
   ]
  },
  {
   "cell_type": "code",
   "execution_count": 2,
   "metadata": {},
   "outputs": [],
   "source": [
    "IMG_PATH ='mini_data/'"
   ]
  },
  {
   "cell_type": "code",
   "execution_count": 3,
   "metadata": {},
   "outputs": [],
   "source": [
    "data = utils.get_data(IMG_PATH)"
   ]
  },
  {
   "cell_type": "code",
   "execution_count": 4,
   "metadata": {},
   "outputs": [],
   "source": [
    "def thread_function(subset):\n",
    "    for i in range(len(subset)):\n",
    "        K_means = KM.K_Means(n=4, cc=KM.plus_plus)\n",
    "        centroids, clusters = K_means.execute(subset[i][1][['R','G','B']])\n",
    "        iter_item = subset[i][1].copy()\n",
    "        iter_item['cluster'] = clusters['cluster']\n",
    "        iter_item.to_csv(f\"Resultados/KNN/{subset[i][0]}.csv\")"
   ]
  },
  {
   "cell_type": "code",
   "execution_count": 5,
   "metadata": {},
   "outputs": [],
   "source": [
    "\n",
    "number_threads = 8\n",
    "data_arr = np.asarray(data)\n",
    "subsets =np.array_split(data_arr, number_threads)\n",
    "\n",
    "for index in range(number_threads):\n",
    "    x = threading.Thread(target=thread_function, args=(subsets[index],))\n",
    "    x.start()\n"
   ]
  }
 ],
 "metadata": {
  "interpreter": {
   "hash": "dbf49d922739c182e9249797c09f7577e09ae82cac1421a81157004c51874aa3"
  },
  "kernelspec": {
   "display_name": "Python 3",
   "language": "python",
   "name": "python3"
  },
  "language_info": {
   "codemirror_mode": {
    "name": "ipython",
    "version": 3
   },
   "file_extension": ".py",
   "mimetype": "text/x-python",
   "name": "python",
   "nbconvert_exporter": "python",
   "pygments_lexer": "ipython3",
   "version": "3.7.6"
  }
 },
 "nbformat": 4,
 "nbformat_minor": 2
}
