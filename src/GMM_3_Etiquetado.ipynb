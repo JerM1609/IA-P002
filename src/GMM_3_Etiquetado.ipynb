{
 "cells": [
  {
   "cell_type": "code",
   "execution_count": null,
   "metadata": {},
   "outputs": [],
   "source": [
    "import pandas as pd\n",
    "import numpy as np\n",
    "import seaborn as sns\n",
    "from natsort import natsorted\n",
    "import matplotlib.pyplot as plt\n",
    "import os\n",
    "from PIL import Image"
   ]
  },
  {
   "cell_type": "code",
   "execution_count": null,
   "metadata": {},
   "outputs": [],
   "source": [
    "PATH = \"Resultados/GMM/Objetos_Clusterizados/\""
   ]
  },
  {
   "cell_type": "code",
   "execution_count": null,
   "metadata": {},
   "outputs": [],
   "source": [
    "lista_archivos = natsorted(os.listdir(PATH))"
   ]
  },
  {
   "cell_type": "code",
   "execution_count": null,
   "metadata": {},
   "outputs": [],
   "source": [
    "indice = 124\n",
    "df = pd.read_csv(PATH + lista_archivos[indice], index_col= 0)\n",
    "# df.replace(to_replace=[3, 4], value=3, inplace=True)\n",
    "# df.replace(to_replace=3, value=2, inplace=True)\n",
    "# df.replace(to_replace=4, value=3, inplace=True)\n",
    "# df.to_csv(PATH+lista_archivos[indice])\n",
    "plt.figure(figsize = (7, 7))\n",
    "plt.title(lista_archivos[indice])\n",
    "sns.scatterplot(data = df, x='i', y='j',hue='cluster', palette='deep')"
   ]
  },
  {
   "cell_type": "code",
   "execution_count": null,
   "metadata": {},
   "outputs": [],
   "source": [
    "plt.figure(figsize = (5, 5))\n",
    "plt.title(lista_archivos[indice])\n",
    "sns.scatterplot(data = df[df['cluster'].isin([0])], x='i', y='j',hue='cluster', palette='deep')\n",
    "plt.xlim(0, 100)\n",
    "plt.ylim(0, 100)"
   ]
  },
  {
   "cell_type": "code",
   "execution_count": null,
   "metadata": {},
   "outputs": [],
   "source": [
    "cluster = 3\n",
    "file_object = open('Resultados/GMM/tumores.csv', 'a')\n",
    "file_object.write(lista_archivos[indice] + ', ')\n",
    "file_object.write(str(cluster))\n",
    "file_object.write('\\n')\n",
    "file_object.close()"
   ]
  },
  {
   "cell_type": "code",
   "execution_count": null,
   "metadata": {},
   "outputs": [],
   "source": [
    "# FALTAN  \n",
    "# (125, 223.csv) (126, 224.csv) (137, 235.csv) (143, 241.csv)\n",
    "# (144, 242.csv) (146, 244.csv) (159, 257.csv) (161, 259.csv)\n",
    "# (167, 265.csv) (175, 273.csv) (176, 274.csv) (178, 276.csv)\n",
    "# (186, 284.csv) (187, 285.csv) (194, 292.csv) (195, 293.csv)\n",
    "# (196, 294.csv) (197, 295.csv) (198, 296.csv) (202, 300.csv)\n",
    "# (219, 317.csv) (224, 322.csv) (242, 340.csv) (254, 352.csv)\n",
    "# (279, 368.csv) (278, 376.csv) (280, 378.csv) (291, 390.csv)\n",
    "\n",
    "# IMPOSIBLE\n",
    "# (124, 222.csv)"
   ]
  }
 ],
 "metadata": {
  "interpreter": {
   "hash": "21a1819d88df0485e3b23f06780d6b8f1666fc431bd4b1ff742ad03a2caf8388"
  },
  "kernelspec": {
   "display_name": "Python 3.10.4 ('venv': venv)",
   "language": "python",
   "name": "python3"
  },
  "language_info": {
   "codemirror_mode": {
    "name": "ipython",
    "version": 3
   },
   "file_extension": ".py",
   "mimetype": "text/x-python",
   "name": "python",
   "nbconvert_exporter": "python",
   "pygments_lexer": "ipython3",
   "version": "3.10.4"
  },
  "orig_nbformat": 4
 },
 "nbformat": 4,
 "nbformat_minor": 2
}
