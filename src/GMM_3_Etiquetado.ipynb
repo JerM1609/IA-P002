{
 "cells": [
  {
   "cell_type": "code",
   "execution_count": null,
   "metadata": {},
   "outputs": [],
   "source": [
    "import pandas as pd\n",
    "import numpy as np\n",
    "import seaborn as sns\n",
    "from natsort import natsorted\n",
    "import matplotlib.pyplot as plt\n",
    "import os\n",
    "from PIL import Image"
   ]
  },
  {
   "cell_type": "code",
   "execution_count": null,
   "metadata": {},
   "outputs": [],
   "source": [
    "PATH = \"Resultados/GMM/Objetos_Clusterizados/\""
   ]
  },
  {
   "cell_type": "code",
   "execution_count": null,
   "metadata": {},
   "outputs": [],
   "source": [
    "lista_archivos = natsorted(os.listdir(PATH))"
   ]
  },
  {
   "cell_type": "code",
   "execution_count": null,
   "metadata": {},
   "outputs": [],
   "source": [
    "indice = 242\n",
    "df = pd.read_csv(PATH + lista_archivos[indice], index_col= 0)\n",
    "plt.figure(figsize = (7, 7))\n",
    "plt.title(lista_archivos[indice])\n",
    "sns.scatterplot(data = df, x='i', y='j',hue='cluster', palette='deep')"
   ]
  },
  {
   "cell_type": "code",
   "execution_count": null,
   "metadata": {},
   "outputs": [],
   "source": [
    "cluster = 3\n",
    "plt.figure(figsize = (5, 5))\n",
    "plt.title(lista_archivos[indice])\n",
    "sns.scatterplot(data = df[df['cluster']==cluster], x='i', y='j',hue='cluster', palette='deep')\n",
    "plt.xlim(0, 100)\n",
    "plt.ylim(0, 100)"
   ]
  },
  {
   "cell_type": "code",
   "execution_count": null,
   "metadata": {},
   "outputs": [],
   "source": [
    "file_object = open('Resultados/GMM/tumores.csv', 'a')\n",
    "file_object.write(lista_archivos[indice] + ', ')\n",
    "file_object.write(str(cluster))\n",
    "file_object.write('\\n')\n",
    "file_object.close()"
   ]
  }
 ],
 "metadata": {
  "interpreter": {
   "hash": "21a1819d88df0485e3b23f06780d6b8f1666fc431bd4b1ff742ad03a2caf8388"
  },
  "kernelspec": {
   "display_name": "Python 3.10.4 ('venv': venv)",
   "language": "python",
   "name": "python3"
  },
  "language_info": {
   "codemirror_mode": {
    "name": "ipython",
    "version": 3
   },
   "file_extension": ".py",
   "mimetype": "text/x-python",
   "name": "python",
   "nbconvert_exporter": "python",
   "pygments_lexer": "ipython3",
   "version": "3.10.4"
  },
  "orig_nbformat": 4
 },
 "nbformat": 4,
 "nbformat_minor": 2
}
